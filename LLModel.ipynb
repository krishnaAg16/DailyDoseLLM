{
 "cells": [
  {
   "cell_type": "code",
   "execution_count": 1,
   "id": "6db1790e-0b98-48cb-96c2-05ca5f7b0f68",
   "metadata": {},
   "outputs": [],
   "source": [
    "\n",
    "from langchain_groq import ChatGroq\n",
    "from langchain_core.prompts import PromptTemplate\n",
    "import json\n",
    "import re\n",
    "import uuid\n",
    "import requests\n",
    "from bs4 import BeautifulSoup"
   ]
  },
  {
   "cell_type": "code",
   "execution_count": 2,
   "id": "7734a4cc-9af4-40c4-a673-87e628367417",
   "metadata": {},
   "outputs": [],
   "source": [
    "import chromadb"
   ]
  },
  {
   "cell_type": "code",
   "execution_count": 3,
   "id": "88d5945c-924e-4433-9c44-9cbf2ab5cb95",
   "metadata": {},
   "outputs": [],
   "source": [
    "llm = ChatGroq(\n",
    "    model=\"llama-3.1-70b-versatile\",\n",
    "    temperature=0.5,\n",
    "    timeout=None,\n",
    "    max_retries=3,\n",
    "    api_key=\"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\",\n",
    ")"
   ]
  },
  {
   "cell_type": "code",
   "execution_count": 4,
   "id": "036860eb-4f0b-4d54-a85c-b37cbe3efdde",
   "metadata": {},
   "outputs": [],
   "source": [
    "prompt = PromptTemplate.from_template('''\n",
    "### SCRAPED TEXT: {page}\n",
    "\n",
    "### TASK INSTRUCTIONS:\n",
    "Based on the above content, please extract and return information about the drug in the following categories. For each, list specific details provided, or use \"not specified\" if no information is found and no other details addition. \n",
    "\n",
    "### REQUIRED INFORMATION:\n",
    "1. **Drug Name** - Primary name of the drug and common brand names.\n",
    "2. **Recommended Foods** - List any foods recommended when taking this drug (if none, specify \"none\").\n",
    "3. **Foods to Avoid** - List any foods that should be avoided when taking this drug.\n",
    "4. **Interacting Drugs** - Provide a list of other drugs that interact with this drug. If a specific waiting period is mentioned for timing between medications, include the wait time in hours; if none is specified, use -1.\n",
    "5. **Common Side Effects** - Symptoms commonly reported by patients using this drug.\n",
    "6. **Serious Side Effects** - Symptoms or reactions that may require immediate medical attention.\n",
    "7. **Primary Uses** - The main medical conditions this drug is prescribed to treat.\n",
    "\n",
    "### SAMPLE FORMAT:\n",
    "{{\n",
    "    'drug': 'SampleMedicine',\n",
    "    'super_food': ['none'], \n",
    "    'bad_food': ['grapefruit juice', 'infant soy formula', 'cheese', 'yogurt'], \n",
    "    'interactive_drug': [\n",
    "        {{'name': 'Calcium carbonate', 'delta': 4}}, \n",
    "        {{'name': 'Sevelamer', 'delta': 4}}, \n",
    "        {{'name': 'Lanthanum', 'delta': 4}}, \n",
    "        {{'name': 'Cholestyramine', 'delta': 4}}, \n",
    "        {{'name': 'Sodium polystyrene sulfonate', 'delta': 4}}\n",
    "    ]\n",
    "    'common_symptom': ['fever', 'increased or change in appetite', 'weight loss or weight gain', 'changes in menstrual periods', 'vomiting', 'diarrhea'], \n",
    "    'serious_symptom': ['hives', 'difficult breathing', 'diarrhea', 'high blood sugar', 'increased thirst'], \n",
    "    'treatment': ['Hypothyroidism', 'Thyroid cancer', 'Myxedema coma']\n",
    "}}\n",
    "\n",
    "### OUTPUT FORMAT:\n",
    "Return the information in STRICT JSON format, following this example:\n",
    "\n",
    "{{\n",
    "    \"drug\": \"ExampleDrugName\",\n",
    "    \"super_food\": [\"list any good foods here\"],\n",
    "    \"bad_food\": [\"list any foods to avoid here\"],\n",
    "    \"interactive_drug\": [\n",
    "        {{ \"name\": \"OtherDrugName\", \"delta\": integer in hours or -1 }}\n",
    "    ],\n",
    "    \"common_symptom\": [\"list common symptoms here\"],\n",
    "    \"serious_symptom\": [\"list serious symptoms here\"],\n",
    "    \"treatment\": [\"main treatments or conditions for this drug\"]\n",
    "}}\n",
    "### IMPORTANT:\n",
    "- Output **only JSON** with no extra commentary or explanation.\n",
    "- If a category has no information, use \"not specified\" or an empty list as applicable.\n",
    "\n",
    "''')"
   ]
  },
  {
   "cell_type": "code",
   "execution_count": 5,
   "id": "6aeae325-097b-4a4d-81e8-c396f9ab1412",
   "metadata": {},
   "outputs": [],
   "source": [
    "def data_from(drug):\n",
    "    gen = llm.invoke(f\"{drug}'s most common generic name only\").content.lower().replace(\" \",\"-\")\n",
    "    response = requests.get(f\"https://www.drugs.com/{gen}.html\")\n",
    "    if response.status_code != 200:\n",
    "        response = requests.get(f\"https://www.drugs.com/{drug.replace(\" \",\"-\")}.html\")\n",
    "        if response.status_code != 200:\n",
    "            return\n",
    "    soup = BeautifulSoup(response.content, \"html.parser\")\n",
    "    content = soup.find('div', id='content')\n",
    "    text = content.get_text(separator=\" \", strip=True)\n",
    "    return text\n",
    "        "
   ]
  },
  {
   "cell_type": "code",
   "execution_count": 6,
   "id": "8986d3e0-0a57-417a-8c49-81ff7aa020f1",
   "metadata": {},
   "outputs": [],
   "source": [
    "def get_salt(medName):\n",
    "    headers = {\n",
    "        \"User-Agent\": \"Mozilla/5.0 (Windows NT 10.0; Win64; x64) AppleWebKit/537.36 (KHTML, like Gecko) Chrome/116.0.0.0 Safari/537.36\",\n",
    "        \"Accept\": \"text/html,application/xhtml+xml,application/xml;q=0.9,image/avif,image/webp,*/*;q=0.8\",\n",
    "        \"Connection\": \"keep-alive\",\n",
    "    }\n",
    "    try:\n",
    "        response = requests.get(f\"https://www.1mg.com/drugs/{medName}\", headers=headers)\n",
    "        response.raise_for_status()\n",
    "        soup = BeautifulSoup(response.content, \"html.parser\")\n",
    "        \n",
    "        info_card = soup.find(\"div\", class_=\"saltInfo\")\n",
    "        if info_card:\n",
    "            drug = info_card.find('a')\n",
    "            if drug:\n",
    "                return drug.get_text().split('+')\n",
    "            else:\n",
    "                print(\"No salt link found.\")\n",
    "                return []\n",
    "        else:\n",
    "            print(\"Salt information not found.\")\n",
    "            return []\n",
    "\n",
    "    except requests.exceptions.RequestException as e:\n",
    "        print(f\"Request failed: {e}\")\n",
    "        return []"
   ]
  },
  {
   "cell_type": "code",
   "execution_count": 7,
   "id": "24c9ecb5-a32a-4c42-b63d-885235a957bd",
   "metadata": {},
   "outputs": [],
   "source": [
    "def llmModel(medName):\n",
    "    chain_extract = prompt | llm\n",
    "    y = get_salt(medName)\n",
    "    for x in y:\n",
    "        try:\n",
    "            r = re.sub(r\"\\s*\\(.*?\\)\", \"\", x.strip())\n",
    "            res = chain_extract.invoke(input={'page':data_from(r)})\n",
    "            return json.loads(res.content)\n",
    "        except:\n",
    "            print(\"Some Error Occured\")\n"
   ]
  },
  {
   "cell_type": "code",
   "execution_count": 8,
   "id": "44e20067-1f92-46fd-87a3-976ce4251c1f",
   "metadata": {},
   "outputs": [],
   "source": [
    "x = llmModel(\"thyronorm-50mcg-tablet-357013\")\n",
    "# x = llmModel(\"calpol-650-tablet-842047\")\n",
    "# x = llmModel(\"omnacortil-10-tablet-dt-150936\")\n",
    "# x = llmModel(\"eltroxin-50mcg-tablet-641335\")\n",
    "# x = llmModel(\"ace-q10-softgel-capsule-977025\")"
   ]
  },
  {
   "cell_type": "code",
   "execution_count": 9,
   "id": "dd28b282-142c-4915-a99f-06e96ae7471e",
   "metadata": {},
   "outputs": [
    {
     "name": "stdout",
     "output_type": "stream",
     "text": [
      "{'drug': 'Levothyroxine', 'super_food': [], 'bad_food': ['grapefruit juice', 'infant soy formula', 'soybean flour', 'cotton seed meal', 'walnuts', 'high-fiber foods', 'milk', 'dairy products', 'cheese', 'yogurt'], 'interactive_drug': [{'name': 'Calcium carbonate', 'delta': 4}, {'name': 'Sevelamer', 'delta': 4}, {'name': 'Lanthanum', 'delta': 4}, {'name': 'Cholestyramine', 'delta': 4}, {'name': 'Colesevelam', 'delta': 4}, {'name': 'Colestipol', 'delta': 4}, {'name': 'Iron supplements', 'delta': 4}, {'name': 'Sucralfate', 'delta': 4}, {'name': 'Sodium polystyrene sulfonate', 'delta': 4}, {'name': 'Esomeprazole', 'delta': 4}, {'name': 'Lansoprazole', 'delta': 4}, {'name': 'Omeprazole', 'delta': 4}, {'name': 'Rabeprazole', 'delta': 4}, {'name': 'Orlistat', 'delta': -1}, {'name': 'Phenobarbital', 'delta': -1}, {'name': 'Rifampin', 'delta': -1}, {'name': 'Ketamine', 'delta': -1}, {'name': 'Steroid medicines', 'delta': -1}, {'name': 'Amitriptyline', 'delta': -1}, {'name': 'Maprotiline', 'delta': -1}, {'name': 'Heart or blood pressure medication', 'delta': -1}, {'name': 'Diabetes medications', 'delta': -1}, {'name': 'Cancer medicine', 'delta': -1}, {'name': 'Warfarin', 'delta': -1}, {'name': 'Coumadin', 'delta': -1}, {'name': 'Jantoven', 'delta': -1}], 'common_symptom': ['fever', 'hot flashes', 'increased sweating', 'tiredness', 'skin rash', 'hair loss', 'chest pain', 'fast or irregular heartbeats', 'shortness of breath', 'headache', 'leg cramps', 'muscle pain or weakness', 'tremors', 'feeling nervous or irritable', 'sleep problems', 'increased or change in appetite', 'weight loss or weight gain', 'changes in menstrual periods', 'vomiting', 'diarrhea'], 'serious_symptom': ['hives', 'difficult breathing', 'swelling of your face, lips, tongue, or throat', 'sudden pain or trouble moving your hip, wrist, or back', 'fast or irregular heartbeats', 'chest pain, pain spreading to your jaw or shoulder', 'wheezing', 'fever', 'swollen glands', 'itching', 'joint pain', 'high blood sugar', 'increased thirst', 'increased urination', 'dry mouth', 'fruity breath odor', 'nausea', 'vomiting', 'diarrhea'], 'treatment': ['Hypothyroidism', 'Thyroid cancer', 'Myxedema coma']}\n"
     ]
    }
   ],
   "source": [
    "print(x)"
   ]
  },
  {
   "cell_type": "code",
   "execution_count": 15,
   "id": "87b35d23-9c31-4828-8448-5b1abc3e35ad",
   "metadata": {},
   "outputs": [],
   "source": [
    "client = chromadb.PersistentClient(path=\"db\")"
   ]
  },
  {
   "cell_type": "code",
   "execution_count": 16,
   "id": "f93a283d-770e-451c-ac93-08f7da7b0b17",
   "metadata": {},
   "outputs": [],
   "source": [
    "collection = client.delete_collection(name=\"medDB\")"
   ]
  },
  {
   "cell_type": "code",
   "execution_count": 17,
   "id": "27bd5b1c-1e9d-4119-b94b-f67141dfd968",
   "metadata": {},
   "outputs": [],
   "source": [
    "collection = client.get_or_create_collection(name=\"medDB\")"
   ]
  },
  {
   "cell_type": "code",
   "execution_count": 26,
   "id": "4b118d27-1186-4fe8-8f5e-b1c8d1570bd9",
   "metadata": {},
   "outputs": [
    {
     "name": "stdout",
     "output_type": "stream",
     "text": [
      "27\n"
     ]
    }
   ],
   "source": [
    "print(collection.count())"
   ]
  },
  {
   "cell_type": "code",
   "execution_count": 25,
   "id": "bef914c5-4e43-4d19-a924-900f67f16365",
   "metadata": {},
   "outputs": [],
   "source": [
    "for i in x['interactive_drug']:\n",
    "    collection.add(documents=str(i['name']), ids=[str(uuid.uuid4())], metadatas={\"name\":x['drug']})"
   ]
  },
  {
   "cell_type": "code",
   "execution_count": null,
   "id": "77e8251e-2fbd-4959-bb82-95c4db7738f6",
   "metadata": {},
   "outputs": [],
   "source": [
    "json_strings = collection.query(query_texts=[\"calcium supplements\"],n_results=2).get('documents')\n",
    "# parsed_data = [json.loads(item) for item in json_strings]\n",
    "# print(parsed_data)"
   ]
  },
  {
   "cell_type": "code",
   "execution_count": null,
   "id": "c8d8ad7c-e494-4091-91a7-7b384646881f",
   "metadata": {},
   "outputs": [],
   "source": [
    "# chain_extract = promt|llm\n",
    "# res = chain_extract.invoke(input={'page':data_from(\"Hydrea\")})\n",
    "# print(res.content)\n",
    "print(json_strings)\n",
    "# res = llm.invoke(\"paracetamol generic name\")\n",
    "# print(res.content)"
   ]
  },
  {
   "cell_type": "code",
   "execution_count": null,
   "id": "c7f9c53d-59d2-4784-9370-ea3488f312b0",
   "metadata": {},
   "outputs": [],
   "source": []
  }
 ],
 "metadata": {
  "kernelspec": {
   "display_name": "Python 3 (ipykernel)",
   "language": "python",
   "name": "python3"
  },
  "language_info": {
   "codemirror_mode": {
    "name": "ipython",
    "version": 3
   },
   "file_extension": ".py",
   "mimetype": "text/x-python",
   "name": "python",
   "nbconvert_exporter": "python",
   "pygments_lexer": "ipython3",
   "version": "3.12.0"
  }
 },
 "nbformat": 4,
 "nbformat_minor": 5
}
